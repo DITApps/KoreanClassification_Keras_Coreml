{
 "cells": [
  {
   "cell_type": "markdown",
   "metadata": {},
   "source": [
    "# 한글 손글씨 분류 iOS 어플리케이션 제작을 위한 Keras 모델 생성\n",
    "### Hand Written Korean Classification Application and Keras Model\n",
    "\n",
    "**Part1. 한글 손글씨 이미지 데이터 호출 및 데이터 전처리**  \n",
    "**Part2. Keras 모델 생성 및 훈련**  \n",
    "**Part3. CoreML 모델로 변환**  "
   ]
  },
  {
   "cell_type": "markdown",
   "metadata": {},
   "source": [
    "----"
   ]
  },
  {
   "cell_type": "markdown",
   "metadata": {
    "colab": {},
    "colab_type": "code",
    "id": "OcCLOY06BQiS"
   },
   "source": [
    "## Part1. 한글 손글씨 이미지 데이터 호출 및 전처리(Data importing and preprocessing)\n",
    "* 한글 손글씨 이미지는 'images.zip'으로 압축되어있습니다. 압축을 풀어서 그대로 사용하면 됩니다.  \n",
    "* 46,060개의 한글 손글씨 이미지는 하나의 폴더에 있으며, label_image_map.csv 파일에 각 이미지 파일의 경로와 label을 매칭해두었습니다.   \n",
    "* 파일 경로에서 이미지를 불러와 X_data에 입력하고, laebl.txt의 음절을 y_data에 입력합니다.  \n",
    "* 총 데이터의 80%를 훈련셋으로, 나머지 20%를 검증셋으로 준비합니다.  \n"
   ]
  },
  {
   "cell_type": "code",
   "execution_count": 40,
   "metadata": {
    "colab": {
     "base_uri": "https://localhost:8080/",
     "height": 34
    },
    "colab_type": "code",
    "id": "2Xq00MqPBcfL",
    "outputId": "347f6ac2-e892-48fb-b854-3a28b48d2c9f"
   },
   "outputs": [
    {
     "name": "stdout",
     "output_type": "stream",
     "text": [
      "csv file load finished\n"
     ]
    }
   ],
   "source": [
    "## 1-1. csv 파일에서 이미지 경로와 해당 이미지의 label 불러오기\n",
    "## 1-1. Importing a image path and the image's label from csv file\n",
    "\n",
    "import pandas as pd\n",
    "import io \n",
    "\n",
    "csv_file_path = \"label_image_map.csv\"\n",
    "lable_file = \"label.txt\"\n",
    "\n",
    "csv_file = io.open(csv_file_path, 'r', encoding='utf-8')\n",
    "labels_file = io.open(lable_file, 'r', encoding='utf-8').read().splitlines()\n",
    "\n",
    "# Map characters to indices.\n",
    "label_dict = {}\n",
    "count = 0\n",
    "for label in labels_file:\n",
    "    label_dict[label] = count\n",
    "    count += 1\n",
    "\n",
    "# Build the lists.\n",
    "filenames = []\n",
    "labels = []\n",
    "\n",
    "for row in csv_file:\n",
    "    path, label = row.strip().split(',')\n",
    "    filenames.append(path)\n",
    "    labels.append(label_dict[label])\n",
    "\n",
    "print(\"csv file load finished\")"
   ]
  },
  {
   "cell_type": "code",
   "execution_count": 41,
   "metadata": {},
   "outputs": [
    {
     "name": "stdout",
     "output_type": "stream",
     "text": [
      "List shuffle finished\n"
     ]
    }
   ],
   "source": [
    "## 1-2. 두 개 리스트 랜덤으로 섞기\n",
    "## 1-2. Shuffle two lists randomly\n",
    "\n",
    "from subprocess import check_output\n",
    "import random\n",
    "\n",
    "seed = 1998\n",
    "\n",
    "shuffled_indices = list(range(len(filenames)))\n",
    "random.seed(seed)\n",
    "random.shuffle(shuffled_indices)\n",
    "filenames = [filenames[i] for i in shuffled_indices]\n",
    "labels = [labels[i] for i in shuffled_indices]\n",
    "\n",
    "print(\"List shuffle finished\")"
   ]
  },
  {
   "cell_type": "code",
   "execution_count": 37,
   "metadata": {
    "colab": {
     "base_uri": "https://localhost:8080/",
     "height": 1987
    },
    "colab_type": "code",
    "id": "bvanXF6rNbki",
    "outputId": "dedb828b-9876-43a9-a219-c9cfa0e94a86"
   },
   "outputs": [
    {
     "name": "stdout",
     "output_type": "stream",
     "text": [
      "131\n",
      "6\n",
      "591\n",
      "891\n",
      "750\n"
     ]
    },
    {
     "data": {
      "image/png": "[encoded data removed]",
      "text/plain": [
       "<Figure size 144x144 with 1 Axes>"
      ]
     },
     "metadata": {
      "needs_background": "light"
     },
     "output_type": "display_data"
    },
    {
     "data": {
      "image/png": "[encoded data removed]",
      "text/plain": [
       "<Figure size 144x144 with 1 Axes>"
      ]
     },
     "metadata": {
      "needs_background": "light"
     },
     "output_type": "display_data"
    },
    {
     "data": {
      "image/png": "[encoded data removed]",
      "text/plain": [
       "<Figure size 144x144 with 1 Axes>"
      ]
     },
     "metadata": {
      "needs_background": "light"
     },
     "output_type": "display_data"
    },
    {
     "data": {
      "image/png": "[encoded data removed]",
      "text/plain": [
       "<Figure size 144x144 with 1 Axes>"
      ]
     },
     "metadata": {
      "needs_background": "light"
     },
     "output_type": "display_data"
    },
    {
     "data": {
      "image/png": "[encoded data removed]",
      "text/plain": [
       "<Figure size 144x144 with 1 Axes>"
      ]
     },
     "metadata": {
      "needs_background": "light"
     },
     "output_type": "display_data"
    }
   ],
   "source": [
    "## 1-3. 이미지 경로의 이미지와 해당 label 시각화 \n",
    "## 1-3. Visualize the image of the image path and its label\n",
    "\n",
    "import matplotlib.pyplot as plt\n",
    "import matplotlib.image as mpimg\n",
    "\n",
    "for i in range(0, 5):\n",
    "    print(labels[i])\n",
    "    \n",
    "    img = mpimg.imread(filenames[i])\n",
    "    plt.figure(figsize=(2, 2))\n",
    "    plt.imshow(img, cmap ='gray')"
   ]
  },
  {
   "cell_type": "code",
   "execution_count": 39,
   "metadata": {
    "colab": {
     "base_uri": "https://localhost:8080/",
     "height": 1547
    },
    "colab_type": "code",
    "id": "06jrcdcJBhAk",
    "outputId": "9eb74025-8618-4b89-dec9-56681379be15"
   },
   "outputs": [
    {
     "name": "stdout",
     "output_type": "stream",
     "text": [
      "5001 images added...\n",
      "10002 images added...\n",
      "15003 images added...\n",
      "20004 images added...\n",
      "25005 images added...\n",
      "30006 images added...\n",
      "35007 images added...\n",
      "40008 images added...\n",
      "45009 images added...\n",
      "Image adding finished\n"
     ]
    }
   ],
   "source": [
    "## 1-4. 이미지 경로에 있는 총 46,060개의 이미지 데이터 새로운 리스트에 담기\n",
    "## 1-4. A total of 46,060 image data in the image path Add to a new list\n",
    "\n",
    "import cv2\n",
    "\n",
    "X_data = []\n",
    "\n",
    "total_count = 0\n",
    "prev_count = 0\n",
    "  \n",
    "for image_path in image_paths:\n",
    "    image = cv2.imread(image_path)\n",
    "    X_data.append(image)\n",
    "    total_count += 1\n",
    "    \n",
    "    if total_count - prev_count > 5000:\n",
    "      prev_count = total_count\n",
    "      print('{} images added...'.format(total_count))\n",
    "    \n",
    "print(\"Image adding finished\")"
   ]
  },
  {
   "cell_type": "code",
   "execution_count": null,
   "metadata": {
    "colab": {
     "base_uri": "https://localhost:8080/",
     "height": 323
    },
    "colab_type": "code",
    "id": "WrDaqHPHBxNs",
    "outputId": "9c6fa52a-1307-4e79-ec33-1cad7a08a15d"
   },
   "outputs": [],
   "source": [
    "## 1-5. 46,060개의 데이터 훈련셋/검증셋으로 나누기(비율 : r)\n",
    "## 1-5. Divide by 46,060 data training set/verification sets(ratios: r)\n",
    "\n",
    "import numpy as np\n",
    "from sklearn.model_selection import train_test_split\n",
    "\n",
    "r = 0.20\n",
    "X = np.array(X_data)\n",
    "y = np.array(labels)\n",
    "\n",
    "X_train, X_val, y_train, y_val = train_test_split(X, y, test_size = r)\n",
    "\n",
    "print(\"X_data:\", X.shape)\n",
    "print(\"y_labels:\", y.shape)\n",
    "print(\"\\nX_train:\", X_train.shape)\n",
    "print(\"X_val:\", X_val.shape)\n",
    "print(\"y_train:\", y_train.shape)\n",
    "print(\"y_val:\", y_val.shape)"
   ]
  },
  {
   "cell_type": "markdown",
   "metadata": {},
   "source": [
    "----"
   ]
  },
  {
   "cell_type": "markdown",
   "metadata": {},
   "source": [
    "## Part2. Keras 모델 훈련(Train Keras model)\n",
    "\n",
    "* 아래 훈련을 CPU로 진행하면 10시간 가량 소요됩니다.  \n",
    "[Google Colab](https://colab.research.google.com/)에서 제공하는 무료 GPU를 활용하는 방법을 추천합니다."
   ]
  },
  {
   "cell_type": "code",
   "execution_count": null,
   "metadata": {
    "colab": {
     "base_uri": "https://localhost:8080/",
     "height": 9200
    },
    "colab_type": "code",
    "id": "fX3Iv-sdLnWo",
    "outputId": "bed4d193-d83e-4b00-b8d4-7e2e8c00ca5b",
    "scrolled": true
   },
   "outputs": [],
   "source": [
    "## 2-1. Keras 모델 생성 및 훈련\n",
    "## 2-1. Keras model initialization and training\n",
    "\n",
    "import keras\n",
    "import keras.utils as utils\n",
    "\n",
    "from keras import backend as K\n",
    "from keras.models import Sequential\n",
    "from keras.layers import Dense, Dropout, Activation, Flatten\n",
    "from keras.layers.convolutional import Convolution2D\n",
    "from keras.layers.convolutional import MaxPooling2D\n",
    "from keras.preprocessing.image import ImageDataGenerator\n",
    "from keras.callbacks import EarlyStopping\n",
    "from sklearn.preprocessing import LabelEncoder,OneHotEncoder\n",
    "\n",
    "batch_size = 128\n",
    "epochs = 300\n",
    "num_classes = 980\n",
    "\n",
    "y_train = utils.to_categorical(y_train, num_classes)\n",
    "y_val = utils.to_categorical(y_val, num_classes)\n",
    "\n",
    "cb_early_stopping = EarlyStopping(monitor='val_loss', patience=50)\n",
    "\n",
    "train_generator = ImageDataGenerator(rescale=1./255, \n",
    "                                     rotation_range=15, \n",
    "                                     width_shift_range=0.15, \n",
    "                                     height_shift_range=0.15, \n",
    "                                     shear_range=0.2, \n",
    "                                     zoom_range=[0.8, 1.2])\n",
    "\n",
    "val_generator = ImageDataGenerator(rescale=1./255)\n",
    "\n",
    "train_data_flow = train_generator.flow(X_train, y_train, \n",
    "                                       batch_size=batch_size)\n",
    "val_data_flow = val_generator.flow(X_val, y_val,\n",
    "                                   batch_size=batch_size)\n",
    "\n",
    "img_rows, img_cols = 32, 32\n",
    "input_shape = (img_rows, img_cols, 3)\n",
    "\n",
    "model = Sequential()\n",
    "model.add(Convolution2D(32, (3, 3), padding='same',\n",
    "                 input_shape=X_train.shape[1:]))\n",
    "model.add(Activation('relu'))\n",
    "model.add(Convolution2D(32, (3, 3)))\n",
    "model.add(Activation('relu'))\n",
    "model.add(MaxPooling2D(pool_size=(2, 2)))\n",
    "model.add(Dropout(0.25))\n",
    "\n",
    "model.add(Convolution2D(64, (3, 3), padding='same'))\n",
    "model.add(Activation('relu'))\n",
    "model.add(Dropout(0.50))\n",
    "\n",
    "model.add(Convolution2D(64, (3, 3)))\n",
    "model.add(Activation('relu'))\n",
    "model.add(MaxPooling2D(pool_size=(2, 2)))\n",
    "model.add(Dropout(0.25))\n",
    "\n",
    "model.add(Flatten())\n",
    "model.add(Dense(512))\n",
    "model.add(Activation('relu'))\n",
    "model.add(Dropout(0.5))\n",
    "model.add(Dense(num_classes))\n",
    "model.add(Activation('softmax'))\n",
    "\n",
    "RMSprop = keras.optimizers.RMSprop(lr=0.001, rho=0.9, epsilon=None, decay=0.0)\n",
    "                     \n",
    "model.compile(loss='categorical_crossentropy',\n",
    "              optimizer=RMSprop,\n",
    "              metrics=['accuracy'])\n",
    "\n",
    "hist = model.fit_generator(train_data_flow,\n",
    "                           epochs=epochs,\n",
    "                           verbose=1,\n",
    "                           steps_per_epoch = 230,\n",
    "                           validation_data=val_data_flow,\n",
    "                           validation_steps = 70,\n",
    "                           callbacks=[cb_early_stopping])"
   ]
  },
  {
   "cell_type": "code",
   "execution_count": null,
   "metadata": {},
   "outputs": [],
   "source": [
    "## 2-2. Keras 모델 저장\n",
    "## 2-2. Save Keras model\n",
    "\n",
    "model.save('hand_written_korean_classification.hdf5')"
   ]
  },
  {
   "cell_type": "code",
   "execution_count": null,
   "metadata": {
    "colab": {},
    "colab_type": "code",
    "id": "kCHTcnFRTz92"
   },
   "outputs": [],
   "source": [
    "## 2-3. 훈련과정 그래프로 확인하기\n",
    "## 2-3. View training curriculum graphs\n",
    "\n",
    "acc = hist.history['acc']\n",
    "val_acc = hist.history['val_acc']\n",
    "loss = hist.history['loss']\n",
    "val_loss = hist.history['val_loss']\n",
    "\n",
    "epochs = range(len(acc))\n",
    "\n",
    "plt.plot(epochs, acc, 'bo', label='Training acc')\n",
    "plt.plot(epochs, val_acc, 'b', label='Validation acc')\n",
    "plt.title('Training and validation accuracy')\n",
    "plt.legend()\n",
    "\n",
    "plt.figure()\n",
    "\n",
    "plt.plot(epochs, loss, 'bo', label='Training loss')\n",
    "plt.plot(epochs, val_loss, 'b', label='Validation loss')\n",
    "plt.title('Training and validation loss')\n",
    "plt.legend()\n",
    "\n",
    "plt.show()"
   ]
  },
  {
   "cell_type": "markdown",
   "metadata": {},
   "source": [
    "---"
   ]
  },
  {
   "cell_type": "markdown",
   "metadata": {},
   "source": [
    "## Part3. Keras 모델 CoreML로 변환(Converting Keras model to CoreML)\n",
    "* Keras 모델을 iOS 애플리케이션에서 활용하기 위해 CoreML로 변환하는 과정입니다. \n",
    "* 이미지를 input으로 받으며, classification output은 label.txt에 있는 980개 음절 중 하나입니다.\n",
    "* 14MB였던 Keras 모델이 모바일에 적합한 CoreML로 변환되면서 7MB로 줄어드는 것을 확인할 수 있습니다."
   ]
  },
  {
   "cell_type": "code",
   "execution_count": null,
   "metadata": {},
   "outputs": [],
   "source": [
    "## 3-1. 훈련된 Keras 모델 CoreML로 변환\n",
    "## 3-1. Convert Keras model to CoreML using coremltools\n",
    "\n",
    "import coremltools\n",
    "\n",
    "coreml_model = coremltools.converters.keras.convert(model, \n",
    "                                                    input_names ='input', \n",
    "                                                    image_input_names = 'image', \n",
    "                                                    class_labels = \"label.txt\")\n"
   ]
  },
  {
   "cell_type": "code",
   "execution_count": null,
   "metadata": {},
   "outputs": [],
   "source": [
    "## 3-2. CoreML 저장\n",
    "## 3-2. Save CoreML\n",
    "\n",
    "coreml_model.save('hand_written_korean_classification.mlmodel')"
   ]
  },
  {
   "cell_type": "markdown",
   "metadata": {},
   "source": [
    "---"
   ]
  },
  {
   "cell_type": "markdown",
   "metadata": {},
   "source": [
    "**Appendix**\n",
    "\n",
    "* [Keras Homepage](https://keras.io)\n",
    "* [coremltools Docs](https://pypi.org/project/coremltools/)\n",
    "* [CoreML Apple Article](https://developer.apple.com/documentation/coreml/converting_trained_models_to_core_ml)\n",
    "* [IBM tensorflow-hangul-recognition](https://github.com/IBM/tensorflow-hangul-recognition)\n"
   ]
  }
 ],
 "metadata": {
  "accelerator": "GPU",
  "colab": {
   "collapsed_sections": [],
   "name": "Untitled0.ipynb",
   "provenance": [],
   "version": "0.3.2"
  },
  "kernelspec": {
   "display_name": "Python 3",
   "language": "python",
   "name": "python3"
  },
  "language_info": {
   "codemirror_mode": {
    "name": "ipython",
    "version": 3
   },
   "file_extension": ".py",
   "mimetype": "text/x-python",
   "name": "python",
   "nbconvert_exporter": "python",
   "pygments_lexer": "ipython3",
   "version": "3.6.5"
  }
 },
 "nbformat": 4,
 "nbformat_minor": 1
}
